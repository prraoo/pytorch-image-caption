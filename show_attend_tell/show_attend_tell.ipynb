{
 "cells": [
  {
   "cell_type": "code",
   "execution_count": 7,
   "metadata": {},
   "outputs": [
    {
     "name": "stderr",
     "output_type": "stream",
     "text": [
      "/home/pramod/.local/lib/python3.5/site-packages/requests/__init__.py:80: RequestsDependencyWarning: urllib3 (1.23) or chardet (3.0.4) doesn't match a supported version!\n",
      "  RequestsDependencyWarning)\n",
      "/home/pramod/anaconda3/envs/py35th/lib/python3.5/importlib/_bootstrap.py:222: RuntimeWarning: numpy.dtype size changed, may indicate binary incompatibility. Expected 96, got 88\n",
      "  return f(*args, **kwds)\n",
      "/home/pramod/anaconda3/envs/py35th/lib/python3.5/importlib/_bootstrap.py:222: RuntimeWarning: numpy.dtype size changed, may indicate binary incompatibility. Expected 96, got 88\n",
      "  return f(*args, **kwds)\n"
     ]
    }
   ],
   "source": [
    "import warnings\n",
    "warnings.filterwarnings(action='once')\n",
    "\n",
    "import torch\n",
    "import torch.nn.functional as F\n",
    "import numpy as np\n",
    "import json\n",
    "import torchvision.transforms as transforms\n",
    "import matplotlib.pyplot as plt\n",
    "import matplotlib.cm as cm\n",
    "import skimage.transform\n",
    "import argparse\n",
    "from scipy.misc import imread, imresize\n",
    "from PIL import Image"
   ]
  },
  {
   "cell_type": "code",
   "execution_count": 8,
   "metadata": {},
   "outputs": [],
   "source": [
    "device = torch.device(\"cuda\" if torch.cuda.is_available() else \"cpu\")"
   ]
  },
  {
   "cell_type": "code",
   "execution_count": 9,
   "metadata": {},
   "outputs": [],
   "source": [
    "def caption_image_beam_search(encoder, decoder, image_path, word_map, beam_size=3):\n",
    "    \"\"\"\n",
    "    Reads an image and captions it with beam search.\n",
    "\n",
    "    :param encoder: encoder model\n",
    "    :param decoder: decoder model\n",
    "    :param image_path: path to image\n",
    "    :param word_map: word map\n",
    "    :param beam_size: number of sequences to consider at each decode-step\n",
    "    :return: caption, weights for visualization\n",
    "    \"\"\"\n",
    "\n",
    "    k = beam_size\n",
    "    vocab_size = len(word_map)\n",
    "\n",
    "    # Read image and process\n",
    "    img = imread(image_path)\n",
    "    if len(img.shape) == 2:\n",
    "        img = img[:, :, np.newaxis]\n",
    "        img = np.concatenate([img, img, img], axis=2)\n",
    "    img = imresize(img, (256, 256))\n",
    "    img = img.transpose(2, 0, 1)\n",
    "    img = img / 255.\n",
    "    img = torch.FloatTensor(img).to(device)\n",
    "    normalize = transforms.Normalize(mean=[0.485, 0.456, 0.406],\n",
    "                                     std=[0.229, 0.224, 0.225])\n",
    "    transform = transforms.Compose([normalize])\n",
    "    image = transform(img)  # (3, 256, 256)\n",
    "\n",
    "    # Encode\n",
    "    image = image.unsqueeze(0)  # (1, 3, 256, 256)\n",
    "    encoder_out = encoder(image)  # (1, enc_image_size, enc_image_size, encoder_dim)\n",
    "    enc_image_size = encoder_out.size(1)\n",
    "    encoder_dim = encoder_out.size(3)\n",
    "\n",
    "    # Flatten encoding\n",
    "    encoder_out = encoder_out.view(1, -1, encoder_dim)  # (1, num_pixels, encoder_dim)\n",
    "    num_pixels = encoder_out.size(1)\n",
    "\n",
    "    # We'll treat the problem as having a batch size of k\n",
    "    encoder_out = encoder_out.expand(k, num_pixels, encoder_dim)  # (k, num_pixels, encoder_dim)\n",
    "\n",
    "    # Tensor to store top k previous words at each step; now they're just <start>\n",
    "    k_prev_words = torch.LongTensor([[word_map['<start>']]] * k).to(device)  # (k, 1)\n",
    "\n",
    "    # Tensor to store top k sequences; now they're just <start>\n",
    "    seqs = k_prev_words  # (k, 1)\n",
    "\n",
    "    # Tensor to store top k sequences' scores; now they're just 0\n",
    "    top_k_scores = torch.zeros(k, 1).to(device)  # (k, 1)\n",
    "\n",
    "    # Tensor to store top k sequences' alphas; now they're just 1s\n",
    "    seqs_alpha = torch.ones(k, 1, enc_image_size, enc_image_size).to(device)  # (k, 1, enc_image_size, enc_image_size)\n",
    "\n",
    "    # Lists to store completed sequences, their alphas and scores\n",
    "    complete_seqs = list()\n",
    "    complete_seqs_alpha = list()\n",
    "    complete_seqs_scores = list()\n",
    "\n",
    "    # Start decoding\n",
    "    step = 1\n",
    "    h, c = decoder.init_hidden_state(encoder_out)\n",
    "\n",
    "    # s is a number less than or equal to k, because sequences are removed from this process once they hit <end>\n",
    "    while True:\n",
    "\n",
    "        embeddings = decoder.embedding(k_prev_words).squeeze(1)  # (s, embed_dim)\n",
    "\n",
    "        awe, alpha = decoder.attention(encoder_out, h)  # (s, encoder_dim), (s, num_pixels)\n",
    "\n",
    "        alpha = alpha.view(-1, enc_image_size, enc_image_size)  # (s, enc_image_size, enc_image_size)\n",
    "\n",
    "        gate = decoder.sigmoid(decoder.f_beta(h))  # gating scalar, (s, encoder_dim)\n",
    "        awe = gate * awe\n",
    "\n",
    "        h, c = decoder.decode_step(torch.cat([embeddings, awe], dim=1), (h, c))  # (s, decoder_dim)\n",
    "\n",
    "        scores = decoder.fc(h)  # (s, vocab_size)\n",
    "        scores = F.log_softmax(scores, dim=1)\n",
    "\n",
    "        # Add\n",
    "        scores = top_k_scores.expand_as(scores) + scores  # (s, vocab_size)\n",
    "\n",
    "        # For the first step, all k points will have the same scores (since same k previous words, h, c)\n",
    "        if step == 1:\n",
    "            top_k_scores, top_k_words = scores[0].topk(k, 0, True, True)  # (s)\n",
    "        else:\n",
    "            # Unroll and find top scores, and their unrolled indices\n",
    "            top_k_scores, top_k_words = scores.view(-1).topk(k, 0, True, True)  # (s)\n",
    "\n",
    "        # Convert unrolled indices to actual indices of scores\n",
    "        prev_word_inds = top_k_words / vocab_size  # (s)\n",
    "        next_word_inds = top_k_words % vocab_size  # (s)\n",
    "\n",
    "        # Add new words to sequences, alphas\n",
    "        seqs = torch.cat([seqs[prev_word_inds], next_word_inds.unsqueeze(1)], dim=1)  # (s, step+1)\n",
    "        seqs_alpha = torch.cat([seqs_alpha[prev_word_inds], alpha[prev_word_inds].unsqueeze(1)],\n",
    "                               dim=1)  # (s, step+1, enc_image_size, enc_image_size)\n",
    "\n",
    "        # Which sequences are incomplete (didn't reach <end>)?\n",
    "        incomplete_inds = [ind for ind, next_word in enumerate(next_word_inds) if\n",
    "                           next_word != word_map['<end>']]\n",
    "        complete_inds = list(set(range(len(next_word_inds))) - set(incomplete_inds))\n",
    "\n",
    "        # Set aside complete sequences\n",
    "        if len(complete_inds) > 0:\n",
    "            complete_seqs.extend(seqs[complete_inds].tolist())\n",
    "            complete_seqs_alpha.extend(seqs_alpha[complete_inds].tolist())\n",
    "            complete_seqs_scores.extend(top_k_scores[complete_inds])\n",
    "        k -= len(complete_inds)  # reduce beam length accordingly\n",
    "\n",
    "        # Proceed with incomplete sequences\n",
    "        if k == 0:\n",
    "            break\n",
    "        seqs = seqs[incomplete_inds]\n",
    "        seqs_alpha = seqs_alpha[incomplete_inds]\n",
    "        h = h[prev_word_inds[incomplete_inds]]\n",
    "        c = c[prev_word_inds[incomplete_inds]]\n",
    "        encoder_out = encoder_out[prev_word_inds[incomplete_inds]]\n",
    "        top_k_scores = top_k_scores[incomplete_inds].unsqueeze(1)\n",
    "        k_prev_words = next_word_inds[incomplete_inds].unsqueeze(1)\n",
    "\n",
    "        # Break if things have been going on too long\n",
    "        if step > 50:\n",
    "            break\n",
    "        step += 1\n",
    "\n",
    "    i = complete_seqs_scores.index(max(complete_seqs_scores))\n",
    "    seq = complete_seqs[i]\n",
    "    alphas = complete_seqs_alpha[i]\n",
    "\n",
    "    return seq, alphas"
   ]
  },
  {
   "cell_type": "code",
   "execution_count": 10,
   "metadata": {},
   "outputs": [
    {
     "name": "stderr",
     "output_type": "stream",
     "text": [
      "/home/pramod/anaconda3/envs/py35th/lib/python3.5/site-packages/torch/serialization.py:367: SourceChangeWarning: source code of class 'models.Encoder' has changed. you can retrieve the original source code by accessing the object's source attribute or set `torch.nn.Module.dump_patches = True` and use the patch tool to revert the changes.\n",
      "  warnings.warn(msg, SourceChangeWarning)\n",
      "/home/pramod/anaconda3/envs/py35th/lib/python3.5/site-packages/torch/serialization.py:367: SourceChangeWarning: source code of class 'models.DecoderWithAttention' has changed. you can retrieve the original source code by accessing the object's source attribute or set `torch.nn.Module.dump_patches = True` and use the patch tool to revert the changes.\n",
      "  warnings.warn(msg, SourceChangeWarning)\n",
      "/home/pramod/anaconda3/envs/py35th/lib/python3.5/site-packages/torch/serialization.py:367: SourceChangeWarning: source code of class 'models.Attention' has changed. you can retrieve the original source code by accessing the object's source attribute or set `torch.nn.Module.dump_patches = True` and use the patch tool to revert the changes.\n",
      "  warnings.warn(msg, SourceChangeWarning)\n"
     ]
    },
    {
     "name": "stdout",
     "output_type": "stream",
     "text": [
      "Loaded encoder and decoder!\n"
     ]
    }
   ],
   "source": [
    "#warnings.filterwarnings('ignore')\n",
    "# Load model\n",
    "checkpoint = torch.load(\"models/BEST_checkpoint_coco_5_cap_per_img_5_min_word_freq.pth.tar\")\n",
    "decoder = checkpoint['decoder']\n",
    "decoder = decoder.to(device)\n",
    "decoder.eval()\n",
    "encoder = checkpoint['encoder']\n",
    "encoder = encoder.to(device)\n",
    "encoder.eval()\n",
    "print(\"Loaded encoder and decoder!\")"
   ]
  },
  {
   "cell_type": "code",
   "execution_count": 13,
   "metadata": {},
   "outputs": [],
   "source": [
    "# Load word map (word2ix)\n",
    "with open(\"models/WORDMAP_coco_5_cap_per_img_5_min_word_freq.json\", 'r') as j:\n",
    "    word_map = json.load(j)\n",
    "rev_word_map = {v: k for k, v in word_map.items()}  # ix2word"
   ]
  },
  {
   "cell_type": "code",
   "execution_count": 14,
   "metadata": {},
   "outputs": [
    {
     "name": "stderr",
     "output_type": "stream",
     "text": [
      "/home/pramod/anaconda3/envs/py35th/lib/python3.5/site-packages/ipykernel_launcher.py:17: DeprecationWarning: `imread` is deprecated!\n",
      "`imread` is deprecated in SciPy 1.0.0, and will be removed in 1.2.0.\n",
      "Use ``imageio.imread`` instead.\n",
      "/home/pramod/anaconda3/envs/py35th/lib/python3.5/site-packages/scipy/misc/pilutil.py:165: DeprecationWarning: `fromimage` is deprecated!\n",
      "`fromimage` is deprecated in SciPy 1.0.0. and will be removed in 1.2.0.\n",
      "Use ``np.asarray(im)`` instead.\n",
      "  return fromimage(im, flatten=flatten, mode=mode)\n",
      "/home/pramod/anaconda3/envs/py35th/lib/python3.5/site-packages/ipykernel_launcher.py:21: DeprecationWarning: `imresize` is deprecated!\n",
      "`imresize` is deprecated in SciPy 1.0.0, and will be removed in 1.2.0.\n",
      "Use ``skimage.transform.resize`` instead.\n",
      "/home/pramod/anaconda3/envs/py35th/lib/python3.5/site-packages/scipy/misc/pilutil.py:555: DeprecationWarning: `toimage` is deprecated!\n",
      "`toimage` is deprecated in SciPy 1.0.0, and will be removed in 1.2.0.\n",
      "Use Pillow's ``Image.fromarray`` directly instead.\n",
      "  im = toimage(arr, mode=mode)\n",
      "/home/pramod/anaconda3/envs/py35th/lib/python3.5/site-packages/scipy/misc/pilutil.py:381: DeprecationWarning: `bytescale` is deprecated!\n",
      "`bytescale` is deprecated in SciPy 1.0.0, and will be removed in 1.2.0.\n",
      "  bytedata = bytescale(data, high=high, low=low, cmin=cmin, cmax=cmax)\n"
     ]
    }
   ],
   "source": [
    "seq, alphas = caption_image_beam_search(encoder, decoder, \"example.png\", word_map, beam_size=5)"
   ]
  },
  {
   "cell_type": "code",
   "execution_count": 4,
   "metadata": {},
   "outputs": [],
   "source": [
    "import pandas as pd\n",
    "import os"
   ]
  },
  {
   "cell_type": "code",
   "execution_count": 33,
   "metadata": {
    "scrolled": true
   },
   "outputs": [
    {
     "name": "stdout",
     "output_type": "stream",
     "text": [
      "img3.jpg\n",
      "[9488, 1, 288, 289, 3, 1, 395, 28, 603, 409, 6, 14, 37, 9489]\n",
      "['<start>', 'a', 'city', 'street', 'with', 'a', 'building', 'and', 'cars', 'parked', 'on', 'the', 'side', '<end>']\n",
      "img4.jpg\n",
      "[9488, 1, 123, 3, 1, 102, 28, 333, 28, 1, 1713, 9489]\n",
      "['<start>', 'a', 'room', 'with', 'a', 'table', 'and', 'chairs', 'and', 'a', 'suitcase', '<end>']\n",
      "messi.jpg\n",
      "[9488, 1, 2, 32, 1, 4, 33, 35, 704, 2015, 9489]\n",
      "['<start>', 'a', 'man', 'in', 'a', 'red', 'shirt', 'is', 'playing', 'frisbee', '<end>']\n",
      "person.jpg\n",
      "[9488, 1, 2, 28, 1, 974, 179, 78, 79, 1, 1112, 9489]\n",
      "['<start>', 'a', 'man', 'and', 'a', 'dog', 'are', 'looking', 'at', 'a', 'sheep', '<end>']\n",
      "scream.jpg\n"
     ]
    },
    {
     "name": "stderr",
     "output_type": "stream",
     "text": [
      "/home/pramod/anaconda3/envs/py35th/lib/python3.5/site-packages/ipykernel_launcher.py:17: DeprecationWarning: `imread` is deprecated!\n",
      "`imread` is deprecated in SciPy 1.0.0, and will be removed in 1.2.0.\n",
      "Use ``imageio.imread`` instead.\n",
      "/home/pramod/anaconda3/envs/py35th/lib/python3.5/site-packages/scipy/misc/pilutil.py:165: DeprecationWarning: `fromimage` is deprecated!\n",
      "`fromimage` is deprecated in SciPy 1.0.0. and will be removed in 1.2.0.\n",
      "Use ``np.asarray(im)`` instead.\n",
      "  return fromimage(im, flatten=flatten, mode=mode)\n",
      "/home/pramod/anaconda3/envs/py35th/lib/python3.5/site-packages/ipykernel_launcher.py:21: DeprecationWarning: `imresize` is deprecated!\n",
      "`imresize` is deprecated in SciPy 1.0.0, and will be removed in 1.2.0.\n",
      "Use ``skimage.transform.resize`` instead.\n",
      "/home/pramod/anaconda3/envs/py35th/lib/python3.5/site-packages/scipy/misc/pilutil.py:555: DeprecationWarning: `toimage` is deprecated!\n",
      "`toimage` is deprecated in SciPy 1.0.0, and will be removed in 1.2.0.\n",
      "Use Pillow's ``Image.fromarray`` directly instead.\n",
      "  im = toimage(arr, mode=mode)\n",
      "/home/pramod/anaconda3/envs/py35th/lib/python3.5/site-packages/scipy/misc/pilutil.py:381: DeprecationWarning: `bytescale` is deprecated!\n",
      "`bytescale` is deprecated in SciPy 1.0.0, and will be removed in 1.2.0.\n",
      "  bytedata = bytescale(data, high=high, low=low, cmin=cmin, cmax=cmax)\n"
     ]
    },
    {
     "name": "stdout",
     "output_type": "stream",
     "text": [
      "[9488, 1, 911, 17, 1, 38, 6, 1, 230, 9489]\n",
      "['<start>', 'a', 'painting', 'of', 'a', 'woman', 'on', 'a', 'train', '<end>']\n",
      "dog.jpg\n",
      "[9488, 1, 974, 35, 98, 6, 1, 3735, 61, 23, 1, 13, 9489]\n",
      "['<start>', 'a', 'dog', 'is', 'sitting', 'on', 'a', 'leash', 'next', 'to', 'a', 'bike', '<end>']\n",
      "eagle.jpg\n",
      "[9488, 1, 416, 3, 1, 91, 1349, 71, 6, 1, 1094, 9489]\n",
      "['<start>', 'a', 'bird', 'with', 'a', 'long', 'beak', 'standing', 'on', 'a', 'beach', '<end>']\n",
      "giraffe.jpg\n",
      "[9488, 1, 1051, 28, 1, 1301, 32, 1, 999, 26, 9489]\n",
      "['<start>', 'a', 'giraffe', 'and', 'a', 'zebra', 'in', 'a', 'grassy', 'area', '<end>']\n",
      "herd_of_horses.jpg\n",
      "[9488, 1, 96, 17, 794, 71, 32, 1, 1324, 798, 716, 9489]\n",
      "['<start>', 'a', 'group', 'of', 'horses', 'standing', 'in', 'a', 'dry', 'grass', 'field', '<end>']\n",
      "img1.jpg\n",
      "[9488, 1, 2, 3, 1, 4070, 28, 1, 4, 710, 9489]\n",
      "['<start>', 'a', 'man', 'with', 'a', 'beard', 'and', 'a', 'red', 'tie', '<end>']\n",
      "img2.jpg\n",
      "[9488, 1, 230, 235, 371, 230, 237, 119, 1, 716, 9489]\n",
      "['<start>', 'a', 'train', 'traveling', 'down', 'train', 'tracks', 'near', 'a', 'field', '<end>']\n",
      "000000001296.jpg\n",
      "[9488, 1, 38, 55, 1, 1260, 634, 635, 32, 41, 348, 9489]\n",
      "['<start>', 'a', 'woman', 'holding', 'a', 'pink', 'cell', 'phone', 'in', 'her', 'hand', '<end>']\n",
      "000000001353.jpg\n",
      "[9488, 1, 2, 28, 1, 38, 6, 1, 4, 28, 202, 974, 9489]\n",
      "['<start>', 'a', 'man', 'and', 'a', 'woman', 'on', 'a', 'red', 'and', 'black', 'dog', '<end>']\n",
      "000000001425.jpg\n",
      "[9488, 1, 271, 3, 1, 1270, 6, 225, 28, 1, 393, 17, 1730, 9489]\n",
      "['<start>', 'a', 'plate', 'with', 'a', 'sandwich', 'on', 'it', 'and', 'a', 'cup', 'of', 'coffee', '<end>']\n",
      "000000001490.jpg\n",
      "[9488, 1, 2, 35, 71, 6, 1, 720, 32, 14, 355, 9489]\n",
      "['<start>', 'a', 'man', 'is', 'standing', 'on', 'a', 'surfboard', 'in', 'the', 'water', '<end>']\n",
      "000000001503.jpg\n",
      "[9488, 1, 74, 99, 3, 1, 261, 28, 1, 75, 9489]\n",
      "['<start>', 'a', 'computer', 'desk', 'with', 'a', 'laptop', 'and', 'a', 'keyboard', '<end>']\n",
      "000000001532.jpg\n",
      "[9488, 1, 289, 881, 6, 1, 289, 3, 603, 6, 225, 9489]\n",
      "['<start>', 'a', 'street', 'sign', 'on', 'a', 'street', 'with', 'cars', 'on', 'it', '<end>']\n",
      "000000001584.jpg\n",
      "[9488, 1, 487, 1941, 698, 35, 409, 6, 14, 37, 17, 14, 289, 9489]\n",
      "['<start>', 'a', 'double', 'decker', 'bus', 'is', 'parked', 'on', 'the', 'side', 'of', 'the', 'street', '<end>']\n",
      "000000001675.jpg\n",
      "[9488, 1, 202, 124, 35, 98, 6, 1, 261, 75, 9489]\n",
      "['<start>', 'a', 'black', 'cat', 'is', 'sitting', 'on', 'a', 'laptop', 'keyboard', '<end>']\n",
      "000000001761.jpg\n",
      "[9488, 1, 45, 689, 690, 320, 1, 27, 320, 1, 1198, 17, 355, 9489]\n",
      "['<start>', 'a', 'large', 'jetliner', 'flying', 'over', 'a', 'bridge', 'over', 'a', 'body', 'of', 'water', '<end>']\n",
      "000000001818.jpg\n",
      "[9488, 167, 1377, 179, 264, 798, 32, 1, 716, 9489]\n",
      "['<start>', 'two', 'zebras', 'are', 'eating', 'grass', 'in', 'a', 'field', '<end>']\n",
      "000000001993.jpg\n",
      "[9488, 1, 485, 3, 1, 1603, 28, 1, 99, 3, 1, 564, 9489]\n",
      "['<start>', 'a', 'bedroom', 'with', 'a', 'bed', 'and', 'a', 'desk', 'with', 'a', 'window', '<end>']\n"
     ]
    }
   ],
   "source": [
    "show_tell_attend_df  = pd.DataFrame()\n",
    "\n",
    "images = \"./imgs/\"\n",
    "for img in os.listdir(images):\n",
    "        if os.path.splitext(img)[1] == '.png' or os.path.splitext(img)[1] =='.jpeg' or os.path.splitext(img)[1] =='.jpg':\n",
    "            print(img)\n",
    "            seq, _ = caption_image_beam_search(encoder, decoder, \"./imgs/\"+img, word_map, beam_size=1)\n",
    "            print(seq)\n",
    "            words = [rev_word_map[ind] for ind in seq]\n",
    "            print(words)\n",
    "            show_tell_attend_df=show_tell_attend_df.append(\n",
    "            pd.DataFrame({\"img\":img,\"show_attend_tell\":str(words)},index=[0]),ignore_index=True)\n",
    "            "
   ]
  },
  {
   "cell_type": "code",
   "execution_count": 24,
   "metadata": {},
   "outputs": [
    {
     "data": {
      "text/plain": [
       "['<start>',\n",
       " 'a',\n",
       " 'herd',\n",
       " 'of',\n",
       " 'giraffe',\n",
       " 'standing',\n",
       " 'on',\n",
       " 'top',\n",
       " 'of',\n",
       " 'a',\n",
       " 'dirt',\n",
       " 'road',\n",
       " '<end>']"
      ]
     },
     "execution_count": 24,
     "metadata": {},
     "output_type": "execute_result"
    }
   ],
   "source": [
    "words = [rev_word_map[ind] for ind in seq]\n",
    "words"
   ]
  },
  {
   "cell_type": "code",
   "execution_count": 34,
   "metadata": {},
   "outputs": [
    {
     "data": {
      "text/html": [
       "<div>\n",
       "<style scoped>\n",
       "    .dataframe tbody tr th:only-of-type {\n",
       "        vertical-align: middle;\n",
       "    }\n",
       "\n",
       "    .dataframe tbody tr th {\n",
       "        vertical-align: top;\n",
       "    }\n",
       "\n",
       "    .dataframe thead th {\n",
       "        text-align: right;\n",
       "    }\n",
       "</style>\n",
       "<table border=\"1\" class=\"dataframe\">\n",
       "  <thead>\n",
       "    <tr style=\"text-align: right;\">\n",
       "      <th></th>\n",
       "      <th>img</th>\n",
       "      <th>yolo</th>\n",
       "      <th>show_tell</th>\n",
       "    </tr>\n",
       "  </thead>\n",
       "  <tbody>\n",
       "    <tr>\n",
       "      <th>NaN</th>\n",
       "      <td>img</td>\n",
       "      <td>yolo</td>\n",
       "      <td>sat</td>\n",
       "    </tr>\n",
       "    <tr>\n",
       "      <th>0.0</th>\n",
       "      <td>000000001584.jpg</td>\n",
       "      <td>['person', 'person', 'person', 'person', 'bus'...</td>\n",
       "      <td>&lt;start&gt; a red and white bus driving down a str...</td>\n",
       "    </tr>\n",
       "    <tr>\n",
       "      <th>1.0</th>\n",
       "      <td>giraffe.jpg</td>\n",
       "      <td>['zebra', 'giraffe', 'giraffe']</td>\n",
       "      <td>&lt;start&gt; a giraffe standing in a field next to ...</td>\n",
       "    </tr>\n",
       "    <tr>\n",
       "      <th>2.0</th>\n",
       "      <td>img4.jpg</td>\n",
       "      <td>['chair', 'chair', 'chair', 'clock']</td>\n",
       "      <td>&lt;start&gt; a living room with a couch , table , a...</td>\n",
       "    </tr>\n",
       "    <tr>\n",
       "      <th>3.0</th>\n",
       "      <td>000000001296.jpg</td>\n",
       "      <td>['person', 'person', 'cell phone']</td>\n",
       "      <td>&lt;start&gt; a woman is eating a piece of cake on a...</td>\n",
       "    </tr>\n",
       "  </tbody>\n",
       "</table>\n",
       "</div>"
      ],
      "text/plain": [
       "                   img                                               yolo  \\\n",
       "NaN                img                                               yolo   \n",
       " 0.0  000000001584.jpg  ['person', 'person', 'person', 'person', 'bus'...   \n",
       " 1.0       giraffe.jpg                    ['zebra', 'giraffe', 'giraffe']   \n",
       " 2.0          img4.jpg               ['chair', 'chair', 'chair', 'clock']   \n",
       " 3.0  000000001296.jpg                 ['person', 'person', 'cell phone']   \n",
       "\n",
       "                                              show_tell  \n",
       "NaN                                                 sat  \n",
       " 0.0  <start> a red and white bus driving down a str...  \n",
       " 1.0  <start> a giraffe standing in a field next to ...  \n",
       " 2.0  <start> a living room with a couch , table , a...  \n",
       " 3.0  <start> a woman is eating a piece of cake on a...  "
      ]
     },
     "execution_count": 34,
     "metadata": {},
     "output_type": "execute_result"
    }
   ],
   "source": [
    "results = pd.read_csv(\"yolo_sat.csv\",names=[\"img\",\"yolo\",\"show_tell\"])\n",
    "results.head()"
   ]
  },
  {
   "cell_type": "code",
   "execution_count": 35,
   "metadata": {},
   "outputs": [],
   "source": [
    "pd.merge(results,show_tell_attend_df,on=\"img\").to_csv(\"yolo_st_sat_.csv\")"
   ]
  },
  {
   "cell_type": "code",
   "execution_count": null,
   "metadata": {},
   "outputs": [],
   "source": []
  }
 ],
 "metadata": {
  "kernelspec": {
   "display_name": "Python 3",
   "language": "python",
   "name": "python3"
  },
  "language_info": {
   "codemirror_mode": {
    "name": "ipython",
    "version": 3
   },
   "file_extension": ".py",
   "mimetype": "text/x-python",
   "name": "python",
   "nbconvert_exporter": "python",
   "pygments_lexer": "ipython3",
   "version": "3.5.5"
  }
 },
 "nbformat": 4,
 "nbformat_minor": 2
}
