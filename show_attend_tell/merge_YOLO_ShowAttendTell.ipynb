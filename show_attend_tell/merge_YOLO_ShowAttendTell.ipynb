{
 "cells": [
  {
   "cell_type": "code",
   "execution_count": 2,
   "metadata": {},
   "outputs": [],
   "source": [
    "import pandas as pd\n",
    "import os"
   ]
  },
  {
   "cell_type": "code",
   "execution_count": 8,
   "metadata": {},
   "outputs": [
    {
     "name": "stdout",
     "output_type": "stream",
     "text": [
      "(4446, 2)\n"
     ]
    },
    {
     "data": {
      "text/html": [
       "<div>\n",
       "<style scoped>\n",
       "    .dataframe tbody tr th:only-of-type {\n",
       "        vertical-align: middle;\n",
       "    }\n",
       "\n",
       "    .dataframe tbody tr th {\n",
       "        vertical-align: top;\n",
       "    }\n",
       "\n",
       "    .dataframe thead th {\n",
       "        text-align: right;\n",
       "    }\n",
       "</style>\n",
       "<table border=\"1\" class=\"dataframe\">\n",
       "  <thead>\n",
       "    <tr style=\"text-align: right;\">\n",
       "      <th></th>\n",
       "      <th>img</th>\n",
       "      <th>yolo</th>\n",
       "    </tr>\n",
       "  </thead>\n",
       "  <tbody>\n",
       "    <tr>\n",
       "      <th>0</th>\n",
       "      <td>image_2124.jpg</td>\n",
       "      <td>['person', 'person']</td>\n",
       "    </tr>\n",
       "    <tr>\n",
       "      <th>1</th>\n",
       "      <td>image_4941.jpg</td>\n",
       "      <td>['dog']</td>\n",
       "    </tr>\n",
       "    <tr>\n",
       "      <th>2</th>\n",
       "      <td>image_3275.jpg</td>\n",
       "      <td>['cat']</td>\n",
       "    </tr>\n",
       "    <tr>\n",
       "      <th>3</th>\n",
       "      <td>image_786.jpg</td>\n",
       "      <td>['cup', 'bottle', 'sofa', 'person', 'person']</td>\n",
       "    </tr>\n",
       "    <tr>\n",
       "      <th>4</th>\n",
       "      <td>image_3873.jpg</td>\n",
       "      <td>['bird']</td>\n",
       "    </tr>\n",
       "  </tbody>\n",
       "</table>\n",
       "</div>"
      ],
      "text/plain": [
       "              img                                           yolo\n",
       "0  image_2124.jpg                           ['person', 'person']\n",
       "1  image_4941.jpg                                        ['dog']\n",
       "2  image_3275.jpg                                        ['cat']\n",
       "3   image_786.jpg  ['cup', 'bottle', 'sofa', 'person', 'person']\n",
       "4  image_3873.jpg                                       ['bird']"
      ]
     },
     "execution_count": 8,
     "metadata": {},
     "output_type": "execute_result"
    }
   ],
   "source": [
    "results_yolo = pd.read_csv(\"../../pytorch-yolov3/yolo_results_pascal_train.csv\",names=[\"img\",\"yolo\"])\n",
    "print(results_yolo.shape)\n",
    "results_yolo.head()"
   ]
  },
  {
   "cell_type": "code",
   "execution_count": 9,
   "metadata": {},
   "outputs": [
    {
     "name": "stdout",
     "output_type": "stream",
     "text": [
      "(5011, 5)\n"
     ]
    },
    {
     "data": {
      "text/html": [
       "<div>\n",
       "<style scoped>\n",
       "    .dataframe tbody tr th:only-of-type {\n",
       "        vertical-align: middle;\n",
       "    }\n",
       "\n",
       "    .dataframe tbody tr th {\n",
       "        vertical-align: top;\n",
       "    }\n",
       "\n",
       "    .dataframe thead th {\n",
       "        text-align: right;\n",
       "    }\n",
       "</style>\n",
       "<table border=\"1\" class=\"dataframe\">\n",
       "  <thead>\n",
       "    <tr style=\"text-align: right;\">\n",
       "      <th></th>\n",
       "      <th>Unnamed: 0</th>\n",
       "      <th>Unnamed: 0.1</th>\n",
       "      <th>img</th>\n",
       "      <th>show_tell</th>\n",
       "      <th>show_attend_tell</th>\n",
       "    </tr>\n",
       "  </thead>\n",
       "  <tbody>\n",
       "    <tr>\n",
       "      <th>0</th>\n",
       "      <td>0</td>\n",
       "      <td>0</td>\n",
       "      <td>image_1.jpg</td>\n",
       "      <td>&lt;start&gt; a living room with a couch , table , a...</td>\n",
       "      <td>['&lt;start&gt;', 'a', 'living', 'room', 'filled', '...</td>\n",
       "    </tr>\n",
       "    <tr>\n",
       "      <th>1</th>\n",
       "      <td>1</td>\n",
       "      <td>1</td>\n",
       "      <td>image_10.jpg</td>\n",
       "      <td>&lt;start&gt; a man wearing a hat and a hat on a mot...</td>\n",
       "      <td>['&lt;start&gt;', 'a', 'man', 'riding', 'a', 'bike',...</td>\n",
       "    </tr>\n",
       "    <tr>\n",
       "      <th>2</th>\n",
       "      <td>2</td>\n",
       "      <td>2</td>\n",
       "      <td>image_100.jpg</td>\n",
       "      <td>&lt;start&gt; a group of people in a room with a man...</td>\n",
       "      <td>['&lt;start&gt;', 'a', 'group', 'of', 'people', 'sta...</td>\n",
       "    </tr>\n",
       "    <tr>\n",
       "      <th>3</th>\n",
       "      <td>3</td>\n",
       "      <td>3</td>\n",
       "      <td>image_1000.jpg</td>\n",
       "      <td>&lt;start&gt; a bus that is parked on a street . &lt;end&gt;</td>\n",
       "      <td>['&lt;start&gt;', 'a', 'bus', 'is', 'parked', 'on', ...</td>\n",
       "    </tr>\n",
       "    <tr>\n",
       "      <th>4</th>\n",
       "      <td>4</td>\n",
       "      <td>4</td>\n",
       "      <td>image_1001.jpg</td>\n",
       "      <td>&lt;start&gt; a kitchen with a table and a table wit...</td>\n",
       "      <td>['&lt;start&gt;', 'a', 'kitchen', 'with', 'a', 'gree...</td>\n",
       "    </tr>\n",
       "  </tbody>\n",
       "</table>\n",
       "</div>"
      ],
      "text/plain": [
       "   Unnamed: 0  Unnamed: 0.1             img  \\\n",
       "0           0             0     image_1.jpg   \n",
       "1           1             1    image_10.jpg   \n",
       "2           2             2   image_100.jpg   \n",
       "3           3             3  image_1000.jpg   \n",
       "4           4             4  image_1001.jpg   \n",
       "\n",
       "                                           show_tell  \\\n",
       "0  <start> a living room with a couch , table , a...   \n",
       "1  <start> a man wearing a hat and a hat on a mot...   \n",
       "2  <start> a group of people in a room with a man...   \n",
       "3   <start> a bus that is parked on a street . <end>   \n",
       "4  <start> a kitchen with a table and a table wit...   \n",
       "\n",
       "                                    show_attend_tell  \n",
       "0  ['<start>', 'a', 'living', 'room', 'filled', '...  \n",
       "1  ['<start>', 'a', 'man', 'riding', 'a', 'bike',...  \n",
       "2  ['<start>', 'a', 'group', 'of', 'people', 'sta...  \n",
       "3  ['<start>', 'a', 'bus', 'is', 'parked', 'on', ...  \n",
       "4  ['<start>', 'a', 'kitchen', 'with', 'a', 'gree...  "
      ]
     },
     "execution_count": 9,
     "metadata": {},
     "output_type": "execute_result"
    }
   ],
   "source": [
    "show_tell_attend_df = pd.read_csv(\"./pascal_train_show_attend_tell.csv\")\n",
    "print(show_tell_attend_df.shape)\n",
    "show_tell_attend_df.head()"
   ]
  },
  {
   "cell_type": "code",
   "execution_count": 10,
   "metadata": {},
   "outputs": [],
   "source": [
    "pd.merge(show_tell_attend_df,results_yolo,on=\"img\",how='outer').to_csv(\"pascal_train_yolo_show_attend_tell.csv\")"
   ]
  },
  {
   "cell_type": "code",
   "execution_count": 11,
   "metadata": {},
   "outputs": [],
   "source": [
    "final_df = pd.read_csv(\"pascal_train_yolo_show_attend_tell.csv\")"
   ]
  },
  {
   "cell_type": "code",
   "execution_count": 12,
   "metadata": {},
   "outputs": [
    {
     "data": {
      "text/plain": [
       "(5011, 7)"
      ]
     },
     "execution_count": 12,
     "metadata": {},
     "output_type": "execute_result"
    }
   ],
   "source": [
    "final_df.shape"
   ]
  },
  {
   "cell_type": "code",
   "execution_count": null,
   "metadata": {},
   "outputs": [],
   "source": []
  }
 ],
 "metadata": {
  "kernelspec": {
   "display_name": "Python 3",
   "language": "python",
   "name": "python3"
  },
  "language_info": {
   "codemirror_mode": {
    "name": "ipython",
    "version": 3
   },
   "file_extension": ".py",
   "mimetype": "text/x-python",
   "name": "python",
   "nbconvert_exporter": "python",
   "pygments_lexer": "ipython3",
   "version": "3.5.5"
  }
 },
 "nbformat": 4,
 "nbformat_minor": 2
}
